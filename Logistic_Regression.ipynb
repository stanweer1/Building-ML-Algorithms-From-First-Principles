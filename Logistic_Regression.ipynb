{
 "cells": [
  {
   "cell_type": "code",
   "execution_count": 1,
   "metadata": {},
   "outputs": [],
   "source": [
    "import numpy as np\n",
    "import matplotlib.pyplot as plt"
   ]
  },
  {
   "cell_type": "markdown",
   "metadata": {},
   "source": [
    "# Generate Some Categorical Data"
   ]
  },
  {
   "cell_type": "code",
   "execution_count": 23,
   "metadata": {},
   "outputs": [],
   "source": [
    "X = np.concatenate((np.random.uniform(0, 5.25, 30), np.random.uniform(4.75, 10, 30)))\n",
    "S = np.concatenate((np.zeros(30), np.ones(30)))"
   ]
  },
  {
   "cell_type": "code",
   "execution_count": 24,
   "metadata": {},
   "outputs": [
    {
     "data": {
      "text/plain": [
       "Text(0, 0.5, 'S')"
      ]
     },
     "execution_count": 24,
     "metadata": {},
     "output_type": "execute_result"
    },
    {
     "data": {
      "image/png": "[encoded data removed]",
      "text/plain": [
       "<Figure size 500x500 with 1 Axes>"
      ]
     },
     "metadata": {},
     "output_type": "display_data"
    }
   ],
   "source": [
    "fig = plt.figure(figsize=(5, 5))\n",
    "plt.scatter(X, S)\n",
    "plt.xlabel('x')\n",
    "plt.ylabel('S')"
   ]
  },
  {
   "cell_type": "markdown",
   "metadata": {},
   "source": [
    "### Normalizing data is extremely important!!!"
   ]
  },
  {
   "cell_type": "code",
   "execution_count": 26,
   "metadata": {},
   "outputs": [],
   "source": [
    "X = (X - np.mean(X)) / np.std(X)"
   ]
  },
  {
   "cell_type": "markdown",
   "metadata": {},
   "source": [
    "# Logistic Regression"
   ]
  },
  {
   "cell_type": "markdown",
   "metadata": {},
   "source": [
    "The logistic regression model is based on fitting a sigmoid $S: X \\rightarrow{} [0, 1]$ to the independent variable $X$\n",
    "$$S = \\frac{e^X}{1 + e^X}$$\n",
    "This $S$ is essentially the likelihood / probability of $X$ falling in category 1. The model is fit by fitting a linear regression model to the log of the odds or the logit function $y: S \\rightarrow{} (-\\infty, \\infty)$ of the likelihood against the observed $X$.\n",
    "$$y = \\log \\frac{S}{1-S} = w*X + b = [1 \\quad X][b \\quad w]^T = \\hat{X}\\theta$$ "
   ]
  },
  {
   "cell_type": "markdown",
   "metadata": {},
   "source": [
    "Except that the best fit line is not found by minimizing the residuals since $y(1) = \\infty \\text{ and } y(0) = -\\infty$ leading to infinite residuals. Instead, the best fit line is found as the one with the maximum likelihood. To do that:\n",
    "\n",
    "- Project each point at $\\pm \\infty$ to the candidate line giving the log-odds value of it. \n",
    "- Invert the logit function to get the likelihood for each point.\n",
    "- Multiply likelihoods for all given points OR add log-likelihoods for all points.\n",
    "- Repeat for all candidate lines and choose the one with maximum likelihood or log-likelihood.\n",
    "\n",
    "(It is preferred to use log-likelihoods because they take the product of small values in $[0, 1]$ to integral values overcoming the underflow problem in computation which occurs due to the computer not being able to store the veryyy small number)"
   ]
  },
  {
   "cell_type": "markdown",
   "metadata": {},
   "source": [
    "**Popular Metrics for Evaluating the Model (Goodness of Fit):**\n",
    "\n",
    "Since $R^2$ cannot be calculated regularly due to the non-finiteness of the $x$ values, many ways have been proposed to calculate an $R^2$ value for the logistic regression model (with no consensus on the best method).\n",
    "\n",
    "One such metric is *McFadden's Pseudo $R^2$* which is calculated similarly as regular $R^2$ with log-likelihood replacing SSR.\n",
    "$$R^2 = \\frac{LL(overall) - LL(fit)}{LL(overall)}$$\n",
    "where $LL(overall)$ can be calculated as the log-probability of class 1 compared to the other class by method of frequency in our given data. \n",
    "\n",
    "Similarly, the associated $p$ value to get significance of the parameters can be calculated as $2*(LL(fit) - LL(overall))$. "
   ]
  },
  {
   "cell_type": "markdown",
   "metadata": {},
   "source": [
    "### Weakness\n",
    "\n",
    "Logistic regression assumes that a sigmoid $S$ can be fit to the data's likelihood. This assumes a relatively straightforward relationship between the classes and the independent variable. "
   ]
  },
  {
   "cell_type": "markdown",
   "metadata": {},
   "source": [
    "# Define Functions for Sigmoid and Logit\n",
    "\n",
    "Note: They are inverse functions of each other"
   ]
  },
  {
   "cell_type": "code",
   "execution_count": 27,
   "metadata": {},
   "outputs": [],
   "source": [
    "def sigmoid(x_):\n",
    "    return 1 / (1 + np.exp(-x_))\n",
    "\n",
    "def logit(S_):\n",
    "    return np.log(S_ / (1 - S_))"
   ]
  },
  {
   "cell_type": "markdown",
   "metadata": {},
   "source": [
    "# Defining Log-Likelihood for Logistic Regression"
   ]
  },
  {
   "cell_type": "markdown",
   "metadata": {},
   "source": [
    "The log-likelihood is defined as following for points $(x, S)$ where $S$ represents the probability of each class. \n",
    "\n",
    "$$L(\\theta) = \\sum_i [S_i \\log{S(\\hat{y}_i)} + (1 - S_i) \\log{(1 - S(\\hat{y}_i))}]$$\n",
    "\n",
    "where $S_i$ are the given probabilities and $S(\\hat{y}_i)$ are the predicted probabilities. "
   ]
  },
  {
   "cell_type": "code",
   "execution_count": 28,
   "metadata": {},
   "outputs": [],
   "source": [
    "def log_likelihood(X, S, theta):\n",
    "    S_ = sigmoid(X*theta)\n",
    "    return np.sum(S * np.log(S_) + (1 - S) * np.log(1 - S_))"
   ]
  },
  {
   "cell_type": "markdown",
   "metadata": {},
   "source": [
    "# Initialize Weight and Bias as $\\theta$"
   ]
  },
  {
   "cell_type": "code",
   "execution_count": 29,
   "metadata": {},
   "outputs": [
    {
     "data": {
      "text/plain": [
       "array([0.])"
      ]
     },
     "execution_count": 29,
     "metadata": {},
     "output_type": "execute_result"
    }
   ],
   "source": [
    "theta = np.zeros(1)\n",
    "theta"
   ]
  },
  {
   "cell_type": "markdown",
   "metadata": {},
   "source": [
    "# Define Function for Gradient Descent"
   ]
  },
  {
   "cell_type": "markdown",
   "metadata": {},
   "source": [
    "Logsitic regression uses the gradient for log-likelihood. But since we have to _maximize_ the likelihood, the descent should use the negative of the derivative. \n",
    "\n",
    "$$\\frac{d(L)}{d\\theta} = X^T (S - S(\\hat{y}))$$"
   ]
  },
  {
   "cell_type": "code",
   "execution_count": 31,
   "metadata": {},
   "outputs": [],
   "source": [
    "def grad_descent(X, S, theta, lr=0.0001):\n",
    "\n",
    "    dldt = -X.T @ (S - sigmoid(X*theta))\n",
    "    theta = theta - lr*dldt\n",
    "\n",
    "    likely = log_likelihood(X, S, theta)\n",
    "\n",
    "    return theta, likely"
   ]
  },
  {
   "cell_type": "markdown",
   "metadata": {},
   "source": [
    "# Run All Epochs to Find Best theta"
   ]
  },
  {
   "cell_type": "code",
   "execution_count": 32,
   "metadata": {},
   "outputs": [
    {
     "name": "stdout",
     "output_type": "stream",
     "text": [
      "Iteration 0, likelihood -40.951400334809705.\n",
      "Iteration 1000, likelihood -9.276274996130512.\n",
      "Iteration 2000, likelihood -8.112681526798807.\n",
      "Iteration 3000, likelihood -7.6032208108397.\n",
      "Iteration 4000, likelihood -7.305282150284371.\n",
      "Iteration 5000, likelihood -7.107455657315477.\n",
      "Iteration 6000, likelihood -6.966243523391864.\n",
      "Iteration 7000, likelihood -6.860588664525923.\n",
      "Iteration 8000, likelihood -6.778874095850563.\n",
      "Iteration 9000, likelihood -6.714097536914925.\n"
     ]
    }
   ],
   "source": [
    "for epoch in range(10000):\n",
    "    theta, likely = grad_descent(X, S, theta, lr=0.001)\n",
    "    if epoch % 1000 == 0:\n",
    "        print(f'Iteration {epoch}, likelihood {likely}.')"
   ]
  },
  {
   "cell_type": "markdown",
   "metadata": {},
   "source": [
    "# Plot the Best Fit Line"
   ]
  },
  {
   "cell_type": "code",
   "execution_count": 33,
   "metadata": {},
   "outputs": [
    {
     "data": {
      "text/plain": [
       "<matplotlib.legend.Legend at 0x2be6484c4d0>"
      ]
     },
     "execution_count": 33,
     "metadata": {},
     "output_type": "execute_result"
    },
    {
     "data": {
      "image/png": "[encoded data removed]",
      "text/plain": [
       "<Figure size 500x500 with 1 Axes>"
      ]
     },
     "metadata": {},
     "output_type": "display_data"
    }
   ],
   "source": [
    "pred = (sigmoid(X * theta) >= 0.5).astype(int)\n",
    "\n",
    "fig = plt.figure(figsize=(5, 5))\n",
    "plt.scatter(X, pred, linewidth=3, label='Predicted Classes')\n",
    "plt.scatter(X, S, alpha=0.4, label='Train Data')\n",
    "plt.xlabel('x')\n",
    "plt.ylabel('y')\n",
    "plt.legend()"
   ]
  },
  {
   "cell_type": "markdown",
   "metadata": {},
   "source": [
    "# A Neater Approach With OOP"
   ]
  },
  {
   "cell_type": "code",
   "execution_count": 34,
   "metadata": {},
   "outputs": [],
   "source": [
    "class LogisticRegressionEstimator():\n",
    "    def __init__(self, lr=0.0001, epochs=10000):\n",
    "        self.lr = lr\n",
    "        self.epochs = epochs\n",
    "        self.theta = None\n",
    "        self.likely = None\n",
    "    \n",
    "    def initialize_parameters(self, X):\n",
    "        self.theta = np.zeros(1)\n",
    "        self.likely = 0\n",
    "\n",
    "    def sigmoid(self, x_):\n",
    "        return 1 / (1 + np.exp(-x_))\n",
    "\n",
    "    def logit(self, S_):\n",
    "        return np.log(S_ / (1 - S_))\n",
    "    \n",
    "    def log_likelihood(self, X, S):\n",
    "        S_ = self.sigmoid(X*self.theta)\n",
    "        return np.sum(S * np.log(S_) + (1 - S) * np.log(1 - S_))\n",
    "\n",
    "    def update_likely(self, X, S):\n",
    "        self.likely = self.log_likelihood(X, S)\n",
    "    \n",
    "    def grad_descent(self, X, S):\n",
    "\n",
    "        dldt = np.sum(X * (S - self.sigmoid(X * self.theta)))\n",
    "        self.theta = self.theta + self.lr * dldt\n",
    "\n",
    "        self.update_likely(X, S)\n",
    "    \n",
    "    def fit(self, X, S):\n",
    "\n",
    "        self.initialize_parameters(X)\n",
    "\n",
    "        for _ in range(self.epochs):\n",
    "            self.grad_descent(X, S)\n",
    "\n",
    "    def predict(self, X, thresh):\n",
    "        return (self.sigmoid(X * self.theta) >= thresh).astype(int)\n",
    "    \n",
    "    def return_parameters(self):\n",
    "        print(f'Theta is {self.theta}, log-likelihood is {self.likely}.')\n",
    "        return self.theta, self.likely"
   ]
  },
  {
   "cell_type": "code",
   "execution_count": 35,
   "metadata": {},
   "outputs": [],
   "source": [
    "linreg = LogisticRegressionEstimator(lr=0.001, epochs=10000)\n",
    "linreg.fit(X, S)"
   ]
  },
  {
   "cell_type": "code",
   "execution_count": 36,
   "metadata": {},
   "outputs": [
    {
     "name": "stdout",
     "output_type": "stream",
     "text": [
      "Theta is [8.23908837], log-likelihood is -6.661805856371255.\n"
     ]
    }
   ],
   "source": [
    "theta, log_likelihood = linreg.return_parameters()"
   ]
  },
  {
   "cell_type": "code",
   "execution_count": 37,
   "metadata": {},
   "outputs": [
    {
     "data": {
      "text/plain": [
       "<matplotlib.legend.Legend at 0x2be648a2510>"
      ]
     },
     "execution_count": 37,
     "metadata": {},
     "output_type": "execute_result"
    },
    {
     "data": {
      "image/png": "[encoded data removed]",
      "text/plain": [
       "<Figure size 500x500 with 1 Axes>"
      ]
     },
     "metadata": {},
     "output_type": "display_data"
    }
   ],
   "source": [
    "pred = linreg.predict(X, thresh=0.5)\n",
    "\n",
    "fig = plt.figure(figsize=(5, 5))\n",
    "plt.scatter(X, pred, linewidth=3, label='Regression Line')\n",
    "plt.scatter(X, S, alpha=0.4, label='Train Data')\n",
    "plt.xlabel('x')\n",
    "plt.ylabel('y')\n",
    "plt.legend()"
   ]
  },
  {
   "cell_type": "markdown",
   "metadata": {},
   "source": [
    "# Make Some New X, S for Prediction Using Similar Scheme As Train Data\n",
    "\n",
    "(Could have split data into test and train instead of doing this)"
   ]
  },
  {
   "cell_type": "code",
   "execution_count": 58,
   "metadata": {},
   "outputs": [],
   "source": [
    "X_test = np.concatenate((np.random.uniform(0, 2, 5), np.random.uniform(8, 10, 5)))\n",
    "X_test = (X_test - np.mean(X_test)) / np.std(X_test)\n",
    "S_test = np.concatenate((np.zeros(5), np.ones(5)))"
   ]
  },
  {
   "cell_type": "code",
   "execution_count": 59,
   "metadata": {},
   "outputs": [],
   "source": [
    "predictions = linreg.predict(X_test, thresh=0.5)"
   ]
  },
  {
   "cell_type": "code",
   "execution_count": 60,
   "metadata": {},
   "outputs": [
    {
     "data": {
      "text/plain": [
       "<matplotlib.legend.Legend at 0x2be64d5aa90>"
      ]
     },
     "execution_count": 60,
     "metadata": {},
     "output_type": "execute_result"
    },
    {
     "data": {
      "image/png": "[encoded data removed]",
      "text/plain": [
       "<Figure size 500x500 with 1 Axes>"
      ]
     },
     "metadata": {},
     "output_type": "display_data"
    }
   ],
   "source": [
    "fig = plt.figure(figsize=(5, 5))\n",
    "plt.scatter(X, S, alpha=0.1, c='b', label='Train Data')\n",
    "plt.scatter(X_test, S_test, alpha=0.7, c='r', marker='x', s=100, label='Test Data')\n",
    "plt.scatter(X_test, predictions, alpha=0.7, c='g', label='Test Predictions')\n",
    "plt.xlabel('x')\n",
    "plt.ylabel('y')\n",
    "plt.legend()"
   ]
  }
 ],
 "metadata": {
  "kernelspec": {
   "display_name": "tda_tutorial",
   "language": "python",
   "name": "python3"
  },
  "language_info": {
   "codemirror_mode": {
    "name": "ipython",
    "version": 3
   },
   "file_extension": ".py",
   "mimetype": "text/x-python",
   "name": "python",
   "nbconvert_exporter": "python",
   "pygments_lexer": "ipython3",
   "version": "3.11.0"
  }
 },
 "nbformat": 4,
 "nbformat_minor": 2
}
